{
 "cells": [
  {
   "cell_type": "markdown",
   "id": "b67995fa",
   "metadata": {},
   "source": [
    "# 🛍️ Retail Sales Analysis\n",
    "This notebook performs a basic analysis on a sample retail sales dataset."
   ]
  },
  {
   "cell_type": "code",
   "execution_count": null,
   "id": "80ccd705",
   "metadata": {},
   "outputs": [],
   "source": [
    "import pandas as pd\n",
    "import matplotlib.pyplot as plt\n",
    "import seaborn as sns\n",
    "\n",
    "df = pd.read_csv(\"retail_sales_data.csv\")\n",
    "df.head()"
   ]
  },
  {
   "cell_type": "markdown",
   "id": "b8438c08",
   "metadata": {},
   "source": [
    "## 🔸 Sales Distribution by Category (Pie Chart)"
   ]
  },
  {
   "cell_type": "code",
   "execution_count": null,
   "id": "b2b693ef",
   "metadata": {},
   "outputs": [],
   "source": [
    "category_counts = df['Category'].value_counts()\n",
    "plt.figure(figsize=(6, 6))\n",
    "category_counts.plot.pie(autopct='%1.1f%%', startangle=140)\n",
    "plt.title('Sales Distribution by Category')\n",
    "plt.ylabel('')\n",
    "plt.show()"
   ]
  },
  {
   "cell_type": "markdown",
   "id": "55f5da3d",
   "metadata": {},
   "source": [
    "## 🔸 Total Sales by Region (Bar Chart)"
   ]
  },
  {
   "cell_type": "code",
   "execution_count": null,
   "id": "1d1cfeb5",
   "metadata": {},
   "outputs": [],
   "source": [
    "region_sales = df.groupby('Region')['Sales'].sum().sort_values()\n",
    "plt.figure(figsize=(6, 4))\n",
    "sns.barplot(x=region_sales.index, y=region_sales.values)\n",
    "plt.title('Total Sales by Region')\n",
    "plt.ylabel('Total Sales')\n",
    "plt.tight_layout()\n",
    "plt.show()"
   ]
  },
  {
   "cell_type": "markdown",
   "id": "3a9768e5",
   "metadata": {},
   "source": [
    "## 🔸 Daily Sales Trend (Line Chart)"
   ]
  },
  {
   "cell_type": "code",
   "execution_count": null,
   "id": "7123323b",
   "metadata": {},
   "outputs": [],
   "source": [
    "df['Date'] = pd.to_datetime(df['Date'])\n",
    "daily_sales = df.groupby('Date')['Sales'].sum()\n",
    "plt.figure(figsize=(8, 4))\n",
    "daily_sales.plot()\n",
    "plt.title('Daily Sales Trend')\n",
    "plt.xlabel('Date')\n",
    "plt.ylabel('Sales')\n",
    "plt.grid(True)\n",
    "plt.tight_layout()\n",
    "plt.show()"
   ]
  }
 ],
 "metadata": {},
 "nbformat": 4,
 "nbformat_minor": 5
}
